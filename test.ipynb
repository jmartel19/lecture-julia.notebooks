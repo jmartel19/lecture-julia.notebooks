{
 "cells": [
  {
   "cell_type": "code",
   "execution_count": 1,
   "metadata": {},
   "outputs": [
    {
     "ename": "UndefVarError",
     "evalue": "UndefVarError: `help` not defined\n  Welcome to Julia 1.9.2. The full manual is available at\n\n  https://docs.julialang.org\n\n  as well as many great tutorials and learning resources:\n\n  https://julialang.org/learning/\n\n  For help on a specific function or macro, type ? followed by its name, e.g.\n  ?cos, or ?@time, and press enter. Type ; to enter shell mode, ] to enter\n  package mode.\n\n  To exit the interactive session, type CTRL-D (press the control key together\n  with the d key), or type exit().",
     "output_type": "error",
     "traceback": [
      "UndefVarError: `help` not defined\n",
      "  Welcome to Julia 1.9.2. The full manual is available at\n",
      "\n",
      "  https://docs.julialang.org\n",
      "\n",
      "  as well as many great tutorials and learning resources:\n",
      "\n",
      "  https://julialang.org/learning/\n",
      "\n",
      "  For help on a specific function or macro, type ? followed by its name, e.g.\n",
      "  ?cos, or ?@time, and press enter. Type ; to enter shell mode, ] to enter\n",
      "  package mode.\n",
      "\n",
      "  To exit the interactive session, type CTRL-D (press the control key together\n",
      "  with the d key), or type exit().\n"
     ]
    }
   ],
   "source": [
    "help"
   ]
  }
 ],
 "metadata": {
  "kernelspec": {
   "display_name": "Julia 1.9.2",
   "language": "julia",
   "name": "julia-1.9"
  },
  "language_info": {
   "file_extension": ".jl",
   "mimetype": "application/julia",
   "name": "julia",
   "version": "1.9.2"
  },
  "orig_nbformat": 4
 },
 "nbformat": 4,
 "nbformat_minor": 2
}
